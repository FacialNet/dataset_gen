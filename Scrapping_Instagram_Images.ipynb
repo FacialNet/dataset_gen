{
 "cells": [
  {
   "cell_type": "markdown",
   "metadata": {},
   "source": [
    "## Libraries Required"
   ]
  },
  {
   "cell_type": "code",
   "execution_count": 30,
   "metadata": {},
   "outputs": [],
   "source": [
    "from random import choice\n",
    "import json\n",
    " \n",
    "import requests\n",
    "from bs4 import BeautifulSoup\n",
    "\n",
    "from pprint import pprint\n",
    "import urllib\n",
    "\n",
    "from selenium import webdriver\n",
    "import time"
   ]
  },
  {
   "cell_type": "markdown",
   "metadata": {},
   "source": [
    "# Scrapping Code\n",
    "\n",
    "#### To Do:\n",
    "\n",
    "- Need to Write to CSV or Excel the file_paths\n",
    "- Need to be able to grab the whole lot of images and not just limited to 12. By using selenium to continually scrape the page till the end"
   ]
  },
  {
   "cell_type": "code",
   "execution_count": 93,
   "metadata": {},
   "outputs": [],
   "source": [
    "_user_agents = [\n",
    "    'Mozilla/5.0 (Windows NT 10.0; Win64; x64) AppleWebKit/537.36 (KHTML, like Gecko) Chrome/65.0.3325.181 Safari/537.36'\n",
    "]\n",
    " \n",
    "class InstagramScraper:\n",
    "        \n",
    "    def using_selenium(self,url):\n",
    "        browser = webdriver.Chrome('C://chromedriver.exe')\n",
    "        browser.get(url)\n",
    "\n",
    "        # Selenium script to scroll to the bottom, wait 3 seconds for the next batch of data to load, then continue scrolling.  It will continue to do this until the page stops loading new data.\n",
    "        lenOfPage = browser.execute_script(\"window.scrollTo(0, document.body.scrollHeight);var lenOfPage=document.body.scrollHeight;return lenOfPage;\")\n",
    "        match=False\n",
    "        while(match==False):\n",
    "            lastCount = lenOfPage\n",
    "            time.sleep(3)\n",
    "            lenOfPage = browser.execute_script(\"window.scrollTo(0, document.body.scrollHeight);var lenOfPage=document.body.scrollHeight;return lenOfPage;\")\n",
    "            if lastCount==lenOfPage:\n",
    "                match=True\n",
    "        source_data = browser.page_source\n",
    "        bs_data = BeautifulSoup(source_data)\n",
    "        return bs_data\n",
    "    \n",
    "    @staticmethod\n",
    "    def extract_json_data(soup):\n",
    "        body = soup.find('body')\n",
    "        script_tag = body.find('script')\n",
    "        raw_string = script_tag.text.strip().replace('window._sharedData =', '').replace(';', '')\n",
    "        return json.loads(raw_string)\n",
    " \n",
    "    def profile_page_metrics(self, profile_url):\n",
    "        results = {}\n",
    "        try:\n",
    "            response = self.__request_url(profile_url)\n",
    "            json_data = self.extract_json_data(response)\n",
    "            metrics = json_data['entry_data']['ProfilePage'][0]['graphql']['user']\n",
    "        except Exception as e:\n",
    "            raise e\n",
    "        else:\n",
    "            for key, value in metrics.items():\n",
    "                if key != 'edge_owner_to_timeline_media':\n",
    "                    if value and isinstance(value, dict):\n",
    "                        value = value['count']\n",
    "                        results[key] = value\n",
    "                    elif value:\n",
    "                        results[key] = value\n",
    "        return results\n",
    "\n",
    "    \n",
    "    def profile_page_recent_posts(self,profile_url):\n",
    "        results = []\n",
    "        try:\n",
    "            response = self.using_selenium(profile_url)\n",
    "            json_data = self.extract_json_data(response)\n",
    "            metrics = json_data['entry_data']['ProfilePage'][0]['graphql']['user']['edge_owner_to_timeline_media'][\"edges\"]\n",
    "        except Exception as e:\n",
    "            raise e\n",
    "        else:\n",
    "            for node in metrics:\n",
    "                node = node.get('node')\n",
    "                if node and isinstance(node, dict):\n",
    "                    results.append(node)\n",
    "        return results"
   ]
  },
  {
   "cell_type": "markdown",
   "metadata": {},
   "source": [
    "# Run Code here\n",
    "\n",
    "Parse is just getting the names the images belongs to, for labels"
   ]
  },
  {
   "cell_type": "code",
   "execution_count": 64,
   "metadata": {},
   "outputs": [],
   "source": [
    "url = 'https://www.instagram.com/lachlangorry/?hl=en'\n",
    "parse = url.split('/')[3]"
   ]
  },
  {
   "cell_type": "code",
   "execution_count": 94,
   "metadata": {},
   "outputs": [
    {
     "name": "stdout",
     "output_type": "stream",
     "text": [
      "https://scontent-syd2-1.cdninstagram.com/vp/189ea8fddd2be9bc2e1b535558264995/5CC68CFA/t51.2885-15/e35/c0.135.1080.1080/s320x320/47583721_518847321931179_8074330671801153944_n.jpg?_nc_ht=scontent-syd2-1.cdninstagram.com ./test_insta_scrapping_images/lachlangorry_0.jpg\n",
      "https://scontent-syd2-1.cdninstagram.com/vp/334537fb56b438195cd4372acfbbd766/5CB70B59/t51.2885-15/e35/c0.135.1080.1080/s320x320/47692557_237704367129198_8921390728797885053_n.jpg?_nc_ht=scontent-syd2-1.cdninstagram.com ./test_insta_scrapping_images/lachlangorry_1.jpg\n",
      "https://scontent-syd2-1.cdninstagram.com/vp/dfa088afd824cef2e862ea65580005d7/5CC7F106/t51.2885-15/e35/c135.0.809.809/s320x320/49678874_1867672110009443_7196953899411951838_n.jpg?_nc_ht=scontent-syd2-1.cdninstagram.com ./test_insta_scrapping_images/lachlangorry_2.jpg\n",
      "https://scontent-syd2-1.cdninstagram.com/vp/58836b3749a6b68d2d6effabdf490643/5CBB4C35/t51.2885-15/e35/c0.135.1080.1080a/s320x320/49858045_313361219296917_8906536226002684063_n.jpg?_nc_ht=scontent-syd2-1.cdninstagram.com ./test_insta_scrapping_images/lachlangorry_3.jpg\n",
      "https://scontent-syd2-1.cdninstagram.com/vp/0271170c062a4a9e1b347fc319379ef3/5CC1095E/t51.2885-15/e35/c136.0.808.808/s320x320/47302928_2034976876555744_3315476426925324008_n.jpg?_nc_ht=scontent-syd2-1.cdninstagram.com ./test_insta_scrapping_images/lachlangorry_4.jpg\n",
      "https://scontent-syd2-1.cdninstagram.com/vp/842dc0d1274d9932862fffcd14a3af7b/5CCECF41/t51.2885-15/e35/c0.135.1080.1080/s320x320/47584270_314183959437454_1906211200136223194_n.jpg?_nc_ht=scontent-syd2-1.cdninstagram.com ./test_insta_scrapping_images/lachlangorry_5.jpg\n",
      "https://scontent-syd2-1.cdninstagram.com/vp/b2448a69d15263d31fe5a51d9b54f76b/5CD98D1B/t51.2885-15/e35/c0.135.1080.1080/s320x320/46981519_221589268756190_2989640336846352815_n.jpg?_nc_ht=scontent-syd2-1.cdninstagram.com ./test_insta_scrapping_images/lachlangorry_6.jpg\n",
      "https://scontent-syd2-1.cdninstagram.com/vp/4e93793bb53943d93cbf0d4c8a5507f8/5CBF1384/t51.2885-15/e35/c0.135.1080.1080/s320x320/47402642_302092313821858_2983094647334839695_n.jpg?_nc_ht=scontent-syd2-1.cdninstagram.com ./test_insta_scrapping_images/lachlangorry_7.jpg\n",
      "https://scontent-syd2-1.cdninstagram.com/vp/169ee2fce9cbbb538dc2cc4af43c0c28/5CD78AE3/t51.2885-15/e35/c135.0.810.810/s320x320/46670522_1608727495894946_8690217007094117553_n.jpg?_nc_ht=scontent-syd2-1.cdninstagram.com ./test_insta_scrapping_images/lachlangorry_8.jpg\n",
      "https://scontent-syd2-1.cdninstagram.com/vp/694dd6e71d280caa4a6fefb79815a61b/5CB7A42A/t51.2885-15/e35/c0.135.1080.1080/s320x320/45375765_105691973723224_7515438700496896138_n.jpg?_nc_ht=scontent-syd2-1.cdninstagram.com ./test_insta_scrapping_images/lachlangorry_9.jpg\n",
      "https://scontent-syd2-1.cdninstagram.com/vp/7458f816917f64bca197af00ea79d534/5CD258DB/t51.2885-15/e35/c0.135.1080.1080/s320x320/46208459_743205759399012_1337977321203207817_n.jpg?_nc_ht=scontent-syd2-1.cdninstagram.com ./test_insta_scrapping_images/lachlangorry_10.jpg\n",
      "https://scontent-syd2-1.cdninstagram.com/vp/134eff1c4b2cd0e635663494d3aabe8b/5CC77EB7/t51.2885-15/e35/c0.135.1080.1080/s320x320/46179742_137821297204268_8444337275141025311_n.jpg?_nc_ht=scontent-syd2-1.cdninstagram.com ./test_insta_scrapping_images/lachlangorry_11.jpg\n"
     ]
    }
   ],
   "source": [
    "k = InstagramScraper()\n",
    "results = k.profile_page_recent_posts(url)\n",
    "\n",
    "for i in range(0,len(results)):\n",
    "    image_src = results[i]['thumbnail_resources'][2]['src']\n",
    "    file_names = parse+'_'+str(i)+'.jpg'\n",
    "    file_path_to_save = './test_insta_scrapping_images/'\n",
    "    urllib.request.urlretrieve(image_src,file_path_to_save+file_names)\n",
    "    print(image_src,file_path_to_save+file_names)"
   ]
  }
 ],
 "metadata": {
  "kernelspec": {
   "display_name": "Python 3",
   "language": "python",
   "name": "python3"
  },
  "language_info": {
   "codemirror_mode": {
    "name": "ipython",
    "version": 3
   },
   "file_extension": ".py",
   "mimetype": "text/x-python",
   "name": "python",
   "nbconvert_exporter": "python",
   "pygments_lexer": "ipython3",
   "version": "3.7.1"
  }
 },
 "nbformat": 4,
 "nbformat_minor": 2
}
